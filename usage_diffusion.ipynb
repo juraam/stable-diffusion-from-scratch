{
 "cells": [
  {
   "cell_type": "code",
   "execution_count": 57,
   "metadata": {},
   "outputs": [
    {
     "name": "stdout",
     "output_type": "stream",
     "text": [
      "Conv 1 shape: torch.Size([1, 3, 32, 32])\n",
      "Group 1 shape: torch.Size([1, 3, 32, 32])\n",
      "Resnet left 1 shape: torch.Size([1, 3, 32, 32])\n",
      "Down 1 shape: torch.Size([1, 3, 16, 16])\n",
      "Resnet left 2 shape: torch.Size([1, 3, 16, 16])\n",
      "Down 2 shape: torch.Size([1, 3, 8, 8])\n",
      "Resnet left 3 shape: torch.Size([1, 3, 8, 8])\n",
      "Down 3 shape: torch.Size([1, 3, 4, 4])\n",
      "Time: torch.Size([1, 1])\n",
      "Time embedding: torch.Size([1, 3, 1, 1])\n",
      "Backbone shape: torch.Size([1, 3, 4, 4])\n",
      "Up 1 shape: torch.Size([1, 3, 8, 8])\n",
      "Resnet right 1 shape: torch.Size([1, 3, 8, 8])\n"
     ]
    },
    {
     "data": {
      "text/plain": [
       "torch.Size([1, 3, 32, 32])"
      ]
     },
     "execution_count": 57,
     "metadata": {},
     "output_type": "execute_result"
    }
   ],
   "source": [
    "import torch\n",
    "import torch.nn\n",
    "\n",
    "class ResnetBlock(torch.nn.Module):\n",
    "    def __init__(self, in_channels, out_channels, is_debug=False) -> None:\n",
    "        super().__init__()\n",
    "        self.conv_1 = torch.nn.Conv2d(\n",
    "            in_channels=in_channels,\n",
    "            out_channels=out_channels,\n",
    "            kernel_size=3,\n",
    "            padding=1\n",
    "        )\n",
    "        self.group_1 = torch.nn.GroupNorm(out_channels, out_channels)\n",
    "        self.relu_1 = torch.nn.ReLU()\n",
    "        self.conv_2 = torch.nn.Conv2d(\n",
    "            in_channels=out_channels,\n",
    "            out_channels=out_channels,\n",
    "            kernel_size=3,\n",
    "            padding=1\n",
    "        )\n",
    "        self.group_2 = torch.nn.GroupNorm(out_channels, out_channels)\n",
    "        self.relu_2 = torch.nn.ReLU()\n",
    "        self.is_debug = is_debug\n",
    "\n",
    "    def forward(self, x, t = None, has_attn = False):\n",
    "        x = self.conv_1(x)\n",
    "        if self.is_debug:\n",
    "            print(\"Conv 1 shape:\", x.shape)\n",
    "        x = self.group_1(x)\n",
    "        if self.is_debug:\n",
    "            print(\"Group 1 shape:\", x.shape)\n",
    "        x = self.relu_1(x)\n",
    "        return self.relu_2(self.group_2(self.conv_2(x)))\n",
    "    \n",
    "class PositionalEmbedding(torch.nn.Module):\n",
    "    def __init__(self, output_dim) -> None:\n",
    "        super().__init__()\n",
    "\n",
    "        self.ln = torch.nn.Linear(1, output_dim)\n",
    "\n",
    "    def forward(self, x):\n",
    "        return self.ln(x)\n",
    "\n",
    "class UNet(torch.nn.Module):\n",
    "    def __init__(self, in_channels, is_debug = False):\n",
    "        super().__init__()\n",
    "        self.is_debug = is_debug\n",
    "        self.resnet_left_1 = ResnetBlock(in_channels, out_channels=3, is_debug=is_debug)\n",
    "        self.down_1 = torch.nn.MaxPool2d(kernel_size=2, return_indices=True)\n",
    "        self.resnet_left_2 = ResnetBlock(in_channels=3, out_channels=3)\n",
    "        self.down_2 = torch.nn.MaxPool2d(kernel_size=2, return_indices=True)\n",
    "        self.resnet_left_3 = ResnetBlock(in_channels=3, out_channels=3)\n",
    "        self.down_3 = torch.nn.MaxPool2d(kernel_size=2, return_indices=True)\n",
    "\n",
    "        self.time_embedding = PositionalEmbedding(3)\n",
    "        self.backbone = ResnetBlock(in_channels=3, out_channels=3)\n",
    "\n",
    "        self.up_1 = torch.nn.MaxUnpool2d(kernel_size=2)\n",
    "        self.resnet_right_1 = ResnetBlock(in_channels, out_channels=3)\n",
    "        self.up_2 = torch.nn.MaxUnpool2d(kernel_size=2)\n",
    "        self.resnet_right_2 = ResnetBlock(in_channels, out_channels=3)\n",
    "        self.up_3 = torch.nn.MaxUnpool2d(kernel_size=2)\n",
    "        self.resnet_right_3 = ResnetBlock(in_channels, out_channels=3)\n",
    "\n",
    "    def forward(self, x, t):\n",
    "        x_1 = self.resnet_left_1(x)\n",
    "        if self.is_debug:\n",
    "            print(\"Resnet left 1 shape:\", x_1.shape)\n",
    "        x, ind_1 = self.down_1(x_1)\n",
    "        if self.is_debug:\n",
    "            print(\"Down 1 shape:\", x.shape)\n",
    "        x_2 = self.resnet_left_2(x)\n",
    "        if self.is_debug:\n",
    "            print(\"Resnet left 2 shape:\", x_2.shape)\n",
    "        x, ind_2 = self.down_2(x_2)\n",
    "        if self.is_debug:\n",
    "            print(\"Down 2 shape:\", x.shape)\n",
    "        x_3 = self.resnet_left_3(x)\n",
    "        if self.is_debug:\n",
    "            print(\"Resnet left 3 shape:\", x_3.shape)\n",
    "        x, ind_3 = self.down_3(x_3)\n",
    "        if self.is_debug:\n",
    "            print(\"Down 3 shape:\", x.shape)\n",
    "        \n",
    "        if self.is_debug:\n",
    "            print(\"Time:\", t.shape)\n",
    "        time_emb = self.time_embedding(t)\n",
    "        batch_size, dim = time_emb.shape\n",
    "        time_emb = time_emb.view(batch_size, dim, 1, 1)\n",
    "        if self.is_debug:\n",
    "            print(\"Time embedding:\", time_emb.shape)\n",
    "        x = self.backbone(x + time_emb)\n",
    "        if self.is_debug:\n",
    "            print(\"Backbone shape:\", x.shape)\n",
    "        \n",
    "        x = self.up_1(x, indices = ind_3)\n",
    "        if self.is_debug:\n",
    "            print(\"Up 1 shape:\", x.shape)\n",
    "        x = self.resnet_right_1(x + x_3)\n",
    "        if self.is_debug:\n",
    "            print(\"Resnet right 1 shape:\", x.shape)\n",
    "        x = self.up_2(x, indices = ind_2)\n",
    "        x = self.resnet_right_2(x + x_2)\n",
    "        x = self.up_3(x, indices = ind_1)\n",
    "        x = self.resnet_right_1(x + x_1)\n",
    "\n",
    "        return x\n",
    "    \n",
    "unet = UNet(3, is_debug=True)\n",
    "res = unet(tensor.unsqueeze(dim=0), torch.tensor([1.0]).unsqueeze(0))\n",
    "res.shape"
   ]
  },
  {
   "cell_type": "code",
   "execution_count": 2,
   "metadata": {},
   "outputs": [
    {
     "name": "stdout",
     "output_type": "stream",
     "text": [
      "Downloading https://www.cs.toronto.edu/~kriz/cifar-10-python.tar.gz to ./datasets/cifar-10-python.tar.gz\n"
     ]
    },
    {
     "name": "stderr",
     "output_type": "stream",
     "text": [
      "100%|██████████| 170498071/170498071 [00:09<00:00, 17203218.42it/s]\n"
     ]
    },
    {
     "name": "stdout",
     "output_type": "stream",
     "text": [
      "Extracting ./datasets/cifar-10-python.tar.gz to ./datasets\n"
     ]
    }
   ],
   "source": [
    "import torchvision\n",
    "import torchvision.transforms\n",
    "import matplotlib.pyplot as plt\n",
    "\n",
    "dataset = torchvision.datasets.cifar.CIFAR10(root=\"./datasets\", download=True)"
   ]
  },
  {
   "cell_type": "code",
   "execution_count": 3,
   "metadata": {},
   "outputs": [
    {
     "name": "stdout",
     "output_type": "stream",
     "text": [
      "Downloading http://yann.lecun.com/exdb/mnist/train-images-idx3-ubyte.gz\n",
      "Failed to download (trying next):\n",
      "HTTP Error 403: Forbidden\n",
      "\n",
      "Downloading https://ossci-datasets.s3.amazonaws.com/mnist/train-images-idx3-ubyte.gz\n",
      "Downloading https://ossci-datasets.s3.amazonaws.com/mnist/train-images-idx3-ubyte.gz to ./datasets/MNIST/raw/train-images-idx3-ubyte.gz\n"
     ]
    },
    {
     "name": "stderr",
     "output_type": "stream",
     "text": [
      "100%|██████████| 9912422/9912422 [00:01<00:00, 8432401.54it/s] \n"
     ]
    },
    {
     "name": "stdout",
     "output_type": "stream",
     "text": [
      "Extracting ./datasets/MNIST/raw/train-images-idx3-ubyte.gz to ./datasets/MNIST/raw\n",
      "\n",
      "Downloading http://yann.lecun.com/exdb/mnist/train-labels-idx1-ubyte.gz\n",
      "Failed to download (trying next):\n",
      "HTTP Error 403: Forbidden\n",
      "\n",
      "Downloading https://ossci-datasets.s3.amazonaws.com/mnist/train-labels-idx1-ubyte.gz\n",
      "Downloading https://ossci-datasets.s3.amazonaws.com/mnist/train-labels-idx1-ubyte.gz to ./datasets/MNIST/raw/train-labels-idx1-ubyte.gz\n"
     ]
    },
    {
     "name": "stderr",
     "output_type": "stream",
     "text": [
      "100%|██████████| 28881/28881 [00:00<00:00, 274654.22it/s]\n"
     ]
    },
    {
     "name": "stdout",
     "output_type": "stream",
     "text": [
      "Extracting ./datasets/MNIST/raw/train-labels-idx1-ubyte.gz to ./datasets/MNIST/raw\n",
      "\n",
      "Downloading http://yann.lecun.com/exdb/mnist/t10k-images-idx3-ubyte.gz\n",
      "Failed to download (trying next):\n",
      "HTTP Error 403: Forbidden\n",
      "\n",
      "Downloading https://ossci-datasets.s3.amazonaws.com/mnist/t10k-images-idx3-ubyte.gz\n",
      "Downloading https://ossci-datasets.s3.amazonaws.com/mnist/t10k-images-idx3-ubyte.gz to ./datasets/MNIST/raw/t10k-images-idx3-ubyte.gz\n"
     ]
    },
    {
     "name": "stderr",
     "output_type": "stream",
     "text": [
      "100%|██████████| 1648877/1648877 [00:02<00:00, 718638.40it/s]\n"
     ]
    },
    {
     "name": "stdout",
     "output_type": "stream",
     "text": [
      "Extracting ./datasets/MNIST/raw/t10k-images-idx3-ubyte.gz to ./datasets/MNIST/raw\n",
      "\n",
      "Downloading http://yann.lecun.com/exdb/mnist/t10k-labels-idx1-ubyte.gz\n",
      "Failed to download (trying next):\n",
      "HTTP Error 403: Forbidden\n",
      "\n",
      "Downloading https://ossci-datasets.s3.amazonaws.com/mnist/t10k-labels-idx1-ubyte.gz\n",
      "Downloading https://ossci-datasets.s3.amazonaws.com/mnist/t10k-labels-idx1-ubyte.gz to ./datasets/MNIST/raw/t10k-labels-idx1-ubyte.gz\n"
     ]
    },
    {
     "name": "stderr",
     "output_type": "stream",
     "text": [
      "100%|██████████| 4542/4542 [00:00<00:00, 1480342.59it/s]"
     ]
    },
    {
     "name": "stdout",
     "output_type": "stream",
     "text": [
      "Extracting ./datasets/MNIST/raw/t10k-labels-idx1-ubyte.gz to ./datasets/MNIST/raw\n",
      "\n"
     ]
    },
    {
     "name": "stderr",
     "output_type": "stream",
     "text": [
      "\n"
     ]
    }
   ],
   "source": [
    "dataset = torchvision.datasets.MNIST(root=\"./datasets\", download=True)"
   ]
  },
  {
   "cell_type": "code",
   "execution_count": 4,
   "metadata": {},
   "outputs": [],
   "source": [
    "import torch"
   ]
  },
  {
   "cell_type": "code",
   "execution_count": 7,
   "metadata": {},
   "outputs": [
    {
     "data": {
      "text/plain": [
       "tensor([1.0000e-04, 1.1992e-04, 1.3984e-04, 1.5976e-04, 1.7968e-04, 1.9960e-04,\n",
       "        2.1952e-04, 2.3944e-04, 2.5936e-04, 2.7928e-04, 2.9920e-04, 3.1912e-04,\n",
       "        3.3904e-04, 3.5896e-04, 3.7888e-04, 3.9880e-04, 4.1872e-04, 4.3864e-04,\n",
       "        4.5856e-04, 4.7848e-04, 4.9840e-04, 5.1832e-04, 5.3824e-04, 5.5816e-04,\n",
       "        5.7808e-04, 5.9800e-04, 6.1792e-04, 6.3784e-04, 6.5776e-04, 6.7768e-04,\n",
       "        6.9760e-04, 7.1752e-04, 7.3744e-04, 7.5736e-04, 7.7728e-04, 7.9720e-04,\n",
       "        8.1712e-04, 8.3704e-04, 8.5696e-04, 8.7688e-04, 8.9680e-04, 9.1672e-04,\n",
       "        9.3664e-04, 9.5656e-04, 9.7648e-04, 9.9640e-04, 1.0163e-03, 1.0362e-03,\n",
       "        1.0562e-03, 1.0761e-03, 1.0960e-03, 1.1159e-03, 1.1358e-03, 1.1558e-03,\n",
       "        1.1757e-03, 1.1956e-03, 1.2155e-03, 1.2354e-03, 1.2554e-03, 1.2753e-03,\n",
       "        1.2952e-03, 1.3151e-03, 1.3350e-03, 1.3550e-03, 1.3749e-03, 1.3948e-03,\n",
       "        1.4147e-03, 1.4346e-03, 1.4546e-03, 1.4745e-03, 1.4944e-03, 1.5143e-03,\n",
       "        1.5342e-03, 1.5542e-03, 1.5741e-03, 1.5940e-03, 1.6139e-03, 1.6338e-03,\n",
       "        1.6538e-03, 1.6737e-03, 1.6936e-03, 1.7135e-03, 1.7334e-03, 1.7534e-03,\n",
       "        1.7733e-03, 1.7932e-03, 1.8131e-03, 1.8330e-03, 1.8530e-03, 1.8729e-03,\n",
       "        1.8928e-03, 1.9127e-03, 1.9326e-03, 1.9526e-03, 1.9725e-03, 1.9924e-03,\n",
       "        2.0123e-03, 2.0322e-03, 2.0522e-03, 2.0721e-03, 2.0920e-03, 2.1119e-03,\n",
       "        2.1318e-03, 2.1518e-03, 2.1717e-03, 2.1916e-03, 2.2115e-03, 2.2314e-03,\n",
       "        2.2514e-03, 2.2713e-03, 2.2912e-03, 2.3111e-03, 2.3310e-03, 2.3510e-03,\n",
       "        2.3709e-03, 2.3908e-03, 2.4107e-03, 2.4306e-03, 2.4506e-03, 2.4705e-03,\n",
       "        2.4904e-03, 2.5103e-03, 2.5302e-03, 2.5502e-03, 2.5701e-03, 2.5900e-03,\n",
       "        2.6099e-03, 2.6298e-03, 2.6497e-03, 2.6697e-03, 2.6896e-03, 2.7095e-03,\n",
       "        2.7294e-03, 2.7493e-03, 2.7693e-03, 2.7892e-03, 2.8091e-03, 2.8290e-03,\n",
       "        2.8489e-03, 2.8689e-03, 2.8888e-03, 2.9087e-03, 2.9286e-03, 2.9485e-03,\n",
       "        2.9685e-03, 2.9884e-03, 3.0083e-03, 3.0282e-03, 3.0481e-03, 3.0681e-03,\n",
       "        3.0880e-03, 3.1079e-03, 3.1278e-03, 3.1477e-03, 3.1677e-03, 3.1876e-03,\n",
       "        3.2075e-03, 3.2274e-03, 3.2473e-03, 3.2673e-03, 3.2872e-03, 3.3071e-03,\n",
       "        3.3270e-03, 3.3469e-03, 3.3669e-03, 3.3868e-03, 3.4067e-03, 3.4266e-03,\n",
       "        3.4465e-03, 3.4665e-03, 3.4864e-03, 3.5063e-03, 3.5262e-03, 3.5461e-03,\n",
       "        3.5661e-03, 3.5860e-03, 3.6059e-03, 3.6258e-03, 3.6457e-03, 3.6657e-03,\n",
       "        3.6856e-03, 3.7055e-03, 3.7254e-03, 3.7453e-03, 3.7653e-03, 3.7852e-03,\n",
       "        3.8051e-03, 3.8250e-03, 3.8449e-03, 3.8649e-03, 3.8848e-03, 3.9047e-03,\n",
       "        3.9246e-03, 3.9445e-03, 3.9645e-03, 3.9844e-03, 4.0043e-03, 4.0242e-03,\n",
       "        4.0441e-03, 4.0641e-03, 4.0840e-03, 4.1039e-03, 4.1238e-03, 4.1437e-03,\n",
       "        4.1637e-03, 4.1836e-03, 4.2035e-03, 4.2234e-03, 4.2433e-03, 4.2633e-03,\n",
       "        4.2832e-03, 4.3031e-03, 4.3230e-03, 4.3429e-03, 4.3629e-03, 4.3828e-03,\n",
       "        4.4027e-03, 4.4226e-03, 4.4425e-03, 4.4625e-03, 4.4824e-03, 4.5023e-03,\n",
       "        4.5222e-03, 4.5421e-03, 4.5621e-03, 4.5820e-03, 4.6019e-03, 4.6218e-03,\n",
       "        4.6417e-03, 4.6617e-03, 4.6816e-03, 4.7015e-03, 4.7214e-03, 4.7413e-03,\n",
       "        4.7613e-03, 4.7812e-03, 4.8011e-03, 4.8210e-03, 4.8409e-03, 4.8609e-03,\n",
       "        4.8808e-03, 4.9007e-03, 4.9206e-03, 4.9405e-03, 4.9605e-03, 4.9804e-03,\n",
       "        5.0003e-03, 5.0202e-03, 5.0401e-03, 5.0601e-03, 5.0800e-03, 5.0999e-03,\n",
       "        5.1198e-03, 5.1397e-03, 5.1597e-03, 5.1796e-03, 5.1995e-03, 5.2194e-03,\n",
       "        5.2393e-03, 5.2593e-03, 5.2792e-03, 5.2991e-03, 5.3190e-03, 5.3389e-03,\n",
       "        5.3589e-03, 5.3788e-03, 5.3987e-03, 5.4186e-03, 5.4385e-03, 5.4585e-03,\n",
       "        5.4784e-03, 5.4983e-03, 5.5182e-03, 5.5381e-03, 5.5581e-03, 5.5780e-03,\n",
       "        5.5979e-03, 5.6178e-03, 5.6377e-03, 5.6577e-03, 5.6776e-03, 5.6975e-03,\n",
       "        5.7174e-03, 5.7373e-03, 5.7573e-03, 5.7772e-03, 5.7971e-03, 5.8170e-03,\n",
       "        5.8369e-03, 5.8569e-03, 5.8768e-03, 5.8967e-03, 5.9166e-03, 5.9365e-03,\n",
       "        5.9565e-03, 5.9764e-03, 5.9963e-03, 6.0162e-03, 6.0361e-03, 6.0561e-03,\n",
       "        6.0760e-03, 6.0959e-03, 6.1158e-03, 6.1357e-03, 6.1557e-03, 6.1756e-03,\n",
       "        6.1955e-03, 6.2154e-03, 6.2353e-03, 6.2553e-03, 6.2752e-03, 6.2951e-03,\n",
       "        6.3150e-03, 6.3349e-03, 6.3549e-03, 6.3748e-03, 6.3947e-03, 6.4146e-03,\n",
       "        6.4345e-03, 6.4545e-03, 6.4744e-03, 6.4943e-03, 6.5142e-03, 6.5341e-03,\n",
       "        6.5541e-03, 6.5740e-03, 6.5939e-03, 6.6138e-03, 6.6337e-03, 6.6537e-03,\n",
       "        6.6736e-03, 6.6935e-03, 6.7134e-03, 6.7333e-03, 6.7533e-03, 6.7732e-03,\n",
       "        6.7931e-03, 6.8130e-03, 6.8329e-03, 6.8529e-03, 6.8728e-03, 6.8927e-03,\n",
       "        6.9126e-03, 6.9325e-03, 6.9525e-03, 6.9724e-03, 6.9923e-03, 7.0122e-03,\n",
       "        7.0321e-03, 7.0521e-03, 7.0720e-03, 7.0919e-03, 7.1118e-03, 7.1317e-03,\n",
       "        7.1517e-03, 7.1716e-03, 7.1915e-03, 7.2114e-03, 7.2313e-03, 7.2513e-03,\n",
       "        7.2712e-03, 7.2911e-03, 7.3110e-03, 7.3309e-03, 7.3509e-03, 7.3708e-03,\n",
       "        7.3907e-03, 7.4106e-03, 7.4305e-03, 7.4505e-03, 7.4704e-03, 7.4903e-03,\n",
       "        7.5102e-03, 7.5301e-03, 7.5501e-03, 7.5700e-03, 7.5899e-03, 7.6098e-03,\n",
       "        7.6297e-03, 7.6496e-03, 7.6696e-03, 7.6895e-03, 7.7094e-03, 7.7293e-03,\n",
       "        7.7492e-03, 7.7692e-03, 7.7891e-03, 7.8090e-03, 7.8289e-03, 7.8488e-03,\n",
       "        7.8688e-03, 7.8887e-03, 7.9086e-03, 7.9285e-03, 7.9484e-03, 7.9684e-03,\n",
       "        7.9883e-03, 8.0082e-03, 8.0281e-03, 8.0480e-03, 8.0680e-03, 8.0879e-03,\n",
       "        8.1078e-03, 8.1277e-03, 8.1476e-03, 8.1676e-03, 8.1875e-03, 8.2074e-03,\n",
       "        8.2273e-03, 8.2472e-03, 8.2672e-03, 8.2871e-03, 8.3070e-03, 8.3269e-03,\n",
       "        8.3468e-03, 8.3668e-03, 8.3867e-03, 8.4066e-03, 8.4265e-03, 8.4464e-03,\n",
       "        8.4664e-03, 8.4863e-03, 8.5062e-03, 8.5261e-03, 8.5460e-03, 8.5660e-03,\n",
       "        8.5859e-03, 8.6058e-03, 8.6257e-03, 8.6456e-03, 8.6656e-03, 8.6855e-03,\n",
       "        8.7054e-03, 8.7253e-03, 8.7452e-03, 8.7652e-03, 8.7851e-03, 8.8050e-03,\n",
       "        8.8249e-03, 8.8448e-03, 8.8648e-03, 8.8847e-03, 8.9046e-03, 8.9245e-03,\n",
       "        8.9444e-03, 8.9644e-03, 8.9843e-03, 9.0042e-03, 9.0241e-03, 9.0440e-03,\n",
       "        9.0640e-03, 9.0839e-03, 9.1038e-03, 9.1237e-03, 9.1436e-03, 9.1636e-03,\n",
       "        9.1835e-03, 9.2034e-03, 9.2233e-03, 9.2432e-03, 9.2632e-03, 9.2831e-03,\n",
       "        9.3030e-03, 9.3229e-03, 9.3428e-03, 9.3628e-03, 9.3827e-03, 9.4026e-03,\n",
       "        9.4225e-03, 9.4424e-03, 9.4624e-03, 9.4823e-03, 9.5022e-03, 9.5221e-03,\n",
       "        9.5420e-03, 9.5620e-03, 9.5819e-03, 9.6018e-03, 9.6217e-03, 9.6416e-03,\n",
       "        9.6616e-03, 9.6815e-03, 9.7014e-03, 9.7213e-03, 9.7412e-03, 9.7612e-03,\n",
       "        9.7811e-03, 9.8010e-03, 9.8209e-03, 9.8408e-03, 9.8608e-03, 9.8807e-03,\n",
       "        9.9006e-03, 9.9205e-03, 9.9404e-03, 9.9604e-03, 9.9803e-03, 1.0000e-02,\n",
       "        1.0020e-02, 1.0040e-02, 1.0060e-02, 1.0080e-02, 1.0100e-02, 1.0120e-02,\n",
       "        1.0140e-02, 1.0160e-02, 1.0179e-02, 1.0199e-02, 1.0219e-02, 1.0239e-02,\n",
       "        1.0259e-02, 1.0279e-02, 1.0299e-02, 1.0319e-02, 1.0339e-02, 1.0359e-02,\n",
       "        1.0379e-02, 1.0399e-02, 1.0419e-02, 1.0438e-02, 1.0458e-02, 1.0478e-02,\n",
       "        1.0498e-02, 1.0518e-02, 1.0538e-02, 1.0558e-02, 1.0578e-02, 1.0598e-02,\n",
       "        1.0618e-02, 1.0638e-02, 1.0658e-02, 1.0677e-02, 1.0697e-02, 1.0717e-02,\n",
       "        1.0737e-02, 1.0757e-02, 1.0777e-02, 1.0797e-02, 1.0817e-02, 1.0837e-02,\n",
       "        1.0857e-02, 1.0877e-02, 1.0897e-02, 1.0917e-02, 1.0936e-02, 1.0956e-02,\n",
       "        1.0976e-02, 1.0996e-02, 1.1016e-02, 1.1036e-02, 1.1056e-02, 1.1076e-02,\n",
       "        1.1096e-02, 1.1116e-02, 1.1136e-02, 1.1156e-02, 1.1175e-02, 1.1195e-02,\n",
       "        1.1215e-02, 1.1235e-02, 1.1255e-02, 1.1275e-02, 1.1295e-02, 1.1315e-02,\n",
       "        1.1335e-02, 1.1355e-02, 1.1375e-02, 1.1395e-02, 1.1415e-02, 1.1434e-02,\n",
       "        1.1454e-02, 1.1474e-02, 1.1494e-02, 1.1514e-02, 1.1534e-02, 1.1554e-02,\n",
       "        1.1574e-02, 1.1594e-02, 1.1614e-02, 1.1634e-02, 1.1654e-02, 1.1673e-02,\n",
       "        1.1693e-02, 1.1713e-02, 1.1733e-02, 1.1753e-02, 1.1773e-02, 1.1793e-02,\n",
       "        1.1813e-02, 1.1833e-02, 1.1853e-02, 1.1873e-02, 1.1893e-02, 1.1913e-02,\n",
       "        1.1932e-02, 1.1952e-02, 1.1972e-02, 1.1992e-02, 1.2012e-02, 1.2032e-02,\n",
       "        1.2052e-02, 1.2072e-02, 1.2092e-02, 1.2112e-02, 1.2132e-02, 1.2152e-02,\n",
       "        1.2171e-02, 1.2191e-02, 1.2211e-02, 1.2231e-02, 1.2251e-02, 1.2271e-02,\n",
       "        1.2291e-02, 1.2311e-02, 1.2331e-02, 1.2351e-02, 1.2371e-02, 1.2391e-02,\n",
       "        1.2411e-02, 1.2430e-02, 1.2450e-02, 1.2470e-02, 1.2490e-02, 1.2510e-02,\n",
       "        1.2530e-02, 1.2550e-02, 1.2570e-02, 1.2590e-02, 1.2610e-02, 1.2630e-02,\n",
       "        1.2650e-02, 1.2669e-02, 1.2689e-02, 1.2709e-02, 1.2729e-02, 1.2749e-02,\n",
       "        1.2769e-02, 1.2789e-02, 1.2809e-02, 1.2829e-02, 1.2849e-02, 1.2869e-02,\n",
       "        1.2889e-02, 1.2909e-02, 1.2928e-02, 1.2948e-02, 1.2968e-02, 1.2988e-02,\n",
       "        1.3008e-02, 1.3028e-02, 1.3048e-02, 1.3068e-02, 1.3088e-02, 1.3108e-02,\n",
       "        1.3128e-02, 1.3148e-02, 1.3167e-02, 1.3187e-02, 1.3207e-02, 1.3227e-02,\n",
       "        1.3247e-02, 1.3267e-02, 1.3287e-02, 1.3307e-02, 1.3327e-02, 1.3347e-02,\n",
       "        1.3367e-02, 1.3387e-02, 1.3407e-02, 1.3426e-02, 1.3446e-02, 1.3466e-02,\n",
       "        1.3486e-02, 1.3506e-02, 1.3526e-02, 1.3546e-02, 1.3566e-02, 1.3586e-02,\n",
       "        1.3606e-02, 1.3626e-02, 1.3646e-02, 1.3665e-02, 1.3685e-02, 1.3705e-02,\n",
       "        1.3725e-02, 1.3745e-02, 1.3765e-02, 1.3785e-02, 1.3805e-02, 1.3825e-02,\n",
       "        1.3845e-02, 1.3865e-02, 1.3885e-02, 1.3905e-02, 1.3924e-02, 1.3944e-02,\n",
       "        1.3964e-02, 1.3984e-02, 1.4004e-02, 1.4024e-02, 1.4044e-02, 1.4064e-02,\n",
       "        1.4084e-02, 1.4104e-02, 1.4124e-02, 1.4144e-02, 1.4163e-02, 1.4183e-02,\n",
       "        1.4203e-02, 1.4223e-02, 1.4243e-02, 1.4263e-02, 1.4283e-02, 1.4303e-02,\n",
       "        1.4323e-02, 1.4343e-02, 1.4363e-02, 1.4383e-02, 1.4403e-02, 1.4422e-02,\n",
       "        1.4442e-02, 1.4462e-02, 1.4482e-02, 1.4502e-02, 1.4522e-02, 1.4542e-02,\n",
       "        1.4562e-02, 1.4582e-02, 1.4602e-02, 1.4622e-02, 1.4642e-02, 1.4661e-02,\n",
       "        1.4681e-02, 1.4701e-02, 1.4721e-02, 1.4741e-02, 1.4761e-02, 1.4781e-02,\n",
       "        1.4801e-02, 1.4821e-02, 1.4841e-02, 1.4861e-02, 1.4881e-02, 1.4900e-02,\n",
       "        1.4920e-02, 1.4940e-02, 1.4960e-02, 1.4980e-02, 1.5000e-02, 1.5020e-02,\n",
       "        1.5040e-02, 1.5060e-02, 1.5080e-02, 1.5100e-02, 1.5120e-02, 1.5140e-02,\n",
       "        1.5159e-02, 1.5179e-02, 1.5199e-02, 1.5219e-02, 1.5239e-02, 1.5259e-02,\n",
       "        1.5279e-02, 1.5299e-02, 1.5319e-02, 1.5339e-02, 1.5359e-02, 1.5379e-02,\n",
       "        1.5398e-02, 1.5418e-02, 1.5438e-02, 1.5458e-02, 1.5478e-02, 1.5498e-02,\n",
       "        1.5518e-02, 1.5538e-02, 1.5558e-02, 1.5578e-02, 1.5598e-02, 1.5618e-02,\n",
       "        1.5638e-02, 1.5657e-02, 1.5677e-02, 1.5697e-02, 1.5717e-02, 1.5737e-02,\n",
       "        1.5757e-02, 1.5777e-02, 1.5797e-02, 1.5817e-02, 1.5837e-02, 1.5857e-02,\n",
       "        1.5877e-02, 1.5896e-02, 1.5916e-02, 1.5936e-02, 1.5956e-02, 1.5976e-02,\n",
       "        1.5996e-02, 1.6016e-02, 1.6036e-02, 1.6056e-02, 1.6076e-02, 1.6096e-02,\n",
       "        1.6116e-02, 1.6136e-02, 1.6155e-02, 1.6175e-02, 1.6195e-02, 1.6215e-02,\n",
       "        1.6235e-02, 1.6255e-02, 1.6275e-02, 1.6295e-02, 1.6315e-02, 1.6335e-02,\n",
       "        1.6355e-02, 1.6375e-02, 1.6394e-02, 1.6414e-02, 1.6434e-02, 1.6454e-02,\n",
       "        1.6474e-02, 1.6494e-02, 1.6514e-02, 1.6534e-02, 1.6554e-02, 1.6574e-02,\n",
       "        1.6594e-02, 1.6614e-02, 1.6634e-02, 1.6653e-02, 1.6673e-02, 1.6693e-02,\n",
       "        1.6713e-02, 1.6733e-02, 1.6753e-02, 1.6773e-02, 1.6793e-02, 1.6813e-02,\n",
       "        1.6833e-02, 1.6853e-02, 1.6873e-02, 1.6892e-02, 1.6912e-02, 1.6932e-02,\n",
       "        1.6952e-02, 1.6972e-02, 1.6992e-02, 1.7012e-02, 1.7032e-02, 1.7052e-02,\n",
       "        1.7072e-02, 1.7092e-02, 1.7112e-02, 1.7132e-02, 1.7151e-02, 1.7171e-02,\n",
       "        1.7191e-02, 1.7211e-02, 1.7231e-02, 1.7251e-02, 1.7271e-02, 1.7291e-02,\n",
       "        1.7311e-02, 1.7331e-02, 1.7351e-02, 1.7371e-02, 1.7390e-02, 1.7410e-02,\n",
       "        1.7430e-02, 1.7450e-02, 1.7470e-02, 1.7490e-02, 1.7510e-02, 1.7530e-02,\n",
       "        1.7550e-02, 1.7570e-02, 1.7590e-02, 1.7610e-02, 1.7630e-02, 1.7649e-02,\n",
       "        1.7669e-02, 1.7689e-02, 1.7709e-02, 1.7729e-02, 1.7749e-02, 1.7769e-02,\n",
       "        1.7789e-02, 1.7809e-02, 1.7829e-02, 1.7849e-02, 1.7869e-02, 1.7888e-02,\n",
       "        1.7908e-02, 1.7928e-02, 1.7948e-02, 1.7968e-02, 1.7988e-02, 1.8008e-02,\n",
       "        1.8028e-02, 1.8048e-02, 1.8068e-02, 1.8088e-02, 1.8108e-02, 1.8128e-02,\n",
       "        1.8147e-02, 1.8167e-02, 1.8187e-02, 1.8207e-02, 1.8227e-02, 1.8247e-02,\n",
       "        1.8267e-02, 1.8287e-02, 1.8307e-02, 1.8327e-02, 1.8347e-02, 1.8367e-02,\n",
       "        1.8386e-02, 1.8406e-02, 1.8426e-02, 1.8446e-02, 1.8466e-02, 1.8486e-02,\n",
       "        1.8506e-02, 1.8526e-02, 1.8546e-02, 1.8566e-02, 1.8586e-02, 1.8606e-02,\n",
       "        1.8626e-02, 1.8645e-02, 1.8665e-02, 1.8685e-02, 1.8705e-02, 1.8725e-02,\n",
       "        1.8745e-02, 1.8765e-02, 1.8785e-02, 1.8805e-02, 1.8825e-02, 1.8845e-02,\n",
       "        1.8865e-02, 1.8884e-02, 1.8904e-02, 1.8924e-02, 1.8944e-02, 1.8964e-02,\n",
       "        1.8984e-02, 1.9004e-02, 1.9024e-02, 1.9044e-02, 1.9064e-02, 1.9084e-02,\n",
       "        1.9104e-02, 1.9124e-02, 1.9143e-02, 1.9163e-02, 1.9183e-02, 1.9203e-02,\n",
       "        1.9223e-02, 1.9243e-02, 1.9263e-02, 1.9283e-02, 1.9303e-02, 1.9323e-02,\n",
       "        1.9343e-02, 1.9363e-02, 1.9382e-02, 1.9402e-02, 1.9422e-02, 1.9442e-02,\n",
       "        1.9462e-02, 1.9482e-02, 1.9502e-02, 1.9522e-02, 1.9542e-02, 1.9562e-02,\n",
       "        1.9582e-02, 1.9602e-02, 1.9622e-02, 1.9641e-02, 1.9661e-02, 1.9681e-02,\n",
       "        1.9701e-02, 1.9721e-02, 1.9741e-02, 1.9761e-02, 1.9781e-02, 1.9801e-02,\n",
       "        1.9821e-02, 1.9841e-02, 1.9861e-02, 1.9880e-02, 1.9900e-02, 1.9920e-02,\n",
       "        1.9940e-02, 1.9960e-02, 1.9980e-02, 2.0000e-02])"
      ]
     },
     "execution_count": 7,
     "metadata": {},
     "output_type": "execute_result"
    }
   ],
   "source": [
    "T = 1000\n",
    "beta_schedule = torch.linspace(1e-4, 0.02, T)\n",
    "alpha_t_schedule = 1 - beta_schedule"
   ]
  },
  {
   "cell_type": "code",
   "execution_count": 16,
   "metadata": {},
   "outputs": [
    {
     "name": "stdout",
     "output_type": "stream",
     "text": [
      "<PIL.Image.Image image mode=RGB size=32x32 at 0x17F6FC1F0>\n",
      "torch.Size([3, 32, 32])\n"
     ]
    }
   ],
   "source": [
    "img, index = dataset[20]\n",
    "\n",
    "# print(img)\n",
    "tensor = torchvision.transforms.ToTensor()(img)\n",
    "print(tensor.shape)"
   ]
  },
  {
   "cell_type": "code",
   "execution_count": 29,
   "metadata": {},
   "outputs": [
    {
     "data": {
      "text/plain": [
       "tensor([[[0.0414, 0.0646, 0.0654,  ..., 0.0673, 0.0790, 0.0936],\n",
       "         [0.0016, 0.0395, 0.0480,  ..., 0.0462, 0.0413, 0.0592],\n",
       "         [0.0000, 0.0065, 0.0149,  ..., 0.0233, 0.0448, 0.0649],\n",
       "         ...,\n",
       "         [0.0000, 0.0436, 0.0680,  ..., 0.0873, 0.1083, 0.1078],\n",
       "         [0.0000, 0.0427, 0.0355,  ..., 0.0894, 0.0883, 0.0782],\n",
       "         [0.0167, 0.0470, 0.0867,  ..., 0.0940, 0.1172, 0.1028]],\n",
       "\n",
       "        [[0.1162, 0.1424, 0.1424,  ..., 0.1365, 0.1500, 0.1468],\n",
       "         [0.1038, 0.1404, 0.1309,  ..., 0.1375, 0.1328, 0.1392],\n",
       "         [0.1060, 0.1398, 0.1427,  ..., 0.1390, 0.1452, 0.1395],\n",
       "         ...,\n",
       "         [0.1132, 0.1573, 0.1538,  ..., 0.1366, 0.1425, 0.1224],\n",
       "         [0.1042, 0.1586, 0.1506,  ..., 0.1706, 0.1463, 0.1282],\n",
       "         [0.1144, 0.1560, 0.1735,  ..., 0.1776, 0.1863, 0.1508]],\n",
       "\n",
       "        [[0.0000, 0.0000, 0.0000,  ..., 0.0000, 0.0000, 0.0000],\n",
       "         [0.0000, 0.0000, 0.0000,  ..., 0.0000, 0.0000, 0.0000],\n",
       "         [0.0000, 0.0000, 0.0000,  ..., 0.0000, 0.0000, 0.0000],\n",
       "         ...,\n",
       "         [0.0000, 0.0000, 0.0000,  ..., 0.0000, 0.0000, 0.0000],\n",
       "         [0.0000, 0.0000, 0.0000,  ..., 0.0000, 0.0000, 0.0000],\n",
       "         [0.0000, 0.0000, 0.0000,  ..., 0.0000, 0.0000, 0.0000]]],\n",
       "       grad_fn=<ReluBackward0>)"
      ]
     },
     "execution_count": 29,
     "metadata": {},
     "output_type": "execute_result"
    }
   ],
   "source": [
    "unet = UNet(3)\n",
    "unet(tensor)"
   ]
  }
 ],
 "metadata": {
  "kernelspec": {
   "display_name": "pytorch_gpu_m1",
   "language": "python",
   "name": "python3"
  },
  "language_info": {
   "codemirror_mode": {
    "name": "ipython",
    "version": 3
   },
   "file_extension": ".py",
   "mimetype": "text/x-python",
   "name": "python",
   "nbconvert_exporter": "python",
   "pygments_lexer": "ipython3",
   "version": "3.9.13"
  }
 },
 "nbformat": 4,
 "nbformat_minor": 2
}

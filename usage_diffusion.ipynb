{
 "cells": [
  {
   "cell_type": "code",
   "execution_count": 2,
   "metadata": {},
   "outputs": [],
   "source": [
    "import torch\n",
    "import torch.nn as nn\n",
    "import torchvision\n",
    "import torchvision.transforms as transforms\n",
    "import matplotlib.pyplot as plt\n",
    "from torch.utils.data import DataLoader"
   ]
  },
  {
   "cell_type": "code",
   "execution_count": 3,
   "metadata": {},
   "outputs": [],
   "source": [
    "class ResnetBlock(nn.Module):\n",
    "    def __init__(self, in_channels, out_channels, is_debug=False) -> None:\n",
    "        super().__init__()\n",
    "        self.conv_1 = nn.Conv2d(\n",
    "            in_channels=in_channels,\n",
    "            out_channels=out_channels,\n",
    "            kernel_size=3,\n",
    "            padding=1\n",
    "        )\n",
    "        self.group_1 = nn.GroupNorm(out_channels, out_channels)\n",
    "        self.relu_1 = nn.ReLU()\n",
    "        self.conv_2 = nn.Conv2d(\n",
    "            in_channels=out_channels,\n",
    "            out_channels=out_channels,\n",
    "            kernel_size=3,\n",
    "            padding=1\n",
    "        )\n",
    "        self.group_2 = nn.GroupNorm(out_channels, out_channels)\n",
    "        self.relu_2 = nn.ReLU()\n",
    "        self.is_debug = is_debug\n",
    "\n",
    "    def forward(self, x, t = None, has_attn = False):\n",
    "        x = self.conv_1(x)\n",
    "        if self.is_debug:\n",
    "            print(\"Conv 1 shape:\", x.shape)\n",
    "        x = self.group_1(x)\n",
    "        if self.is_debug:\n",
    "            print(\"Group 1 shape:\", x.shape)\n",
    "        x = self.relu_1(x)\n",
    "        return self.relu_2(self.group_2(self.conv_2(x)))\n",
    "    \n",
    "class PositionalEmbedding(nn.Module):\n",
    "    def __init__(self, output_dim) -> None:\n",
    "        super().__init__()\n",
    "\n",
    "        self.ln = nn.Linear(1, output_dim)\n",
    "\n",
    "    def forward(self, x):\n",
    "        return self.ln(x)\n",
    "\n",
    "class UNet(nn.Module):\n",
    "    def __init__(self, in_channels, out_channels, is_debug = False):\n",
    "        super().__init__()\n",
    "        self.is_debug = is_debug\n",
    "        self.resnet_left_1 = ResnetBlock(in_channels, out_channels=3, is_debug=is_debug)\n",
    "        self.down_1 = nn.MaxPool2d(kernel_size=2, return_indices=True)\n",
    "        self.resnet_left_2 = ResnetBlock(in_channels=3, out_channels=3)\n",
    "        self.down_2 = nn.MaxPool2d(kernel_size=2, return_indices=True)\n",
    "        self.resnet_left_3 = ResnetBlock(in_channels=3, out_channels=3)\n",
    "        self.down_3 = nn.MaxPool2d(kernel_size=2, return_indices=True)\n",
    "\n",
    "        self.time_embedding = PositionalEmbedding(3)\n",
    "        self.backbone = ResnetBlock(in_channels=3, out_channels=3)\n",
    "\n",
    "        self.up_1 = nn.MaxUnpool2d(kernel_size=2)\n",
    "        self.resnet_right_1 = ResnetBlock(in_channels=3, out_channels=3)\n",
    "        self.up_2 = nn.MaxUnpool2d(kernel_size=2)\n",
    "        self.resnet_right_2 = ResnetBlock(in_channels=3, out_channels=3)\n",
    "        self.up_3 = nn.MaxUnpool2d(kernel_size=2)\n",
    "        self.resnet_right_3 = ResnetBlock(in_channels=3, out_channels=out_channels, is_debug=is_debug)\n",
    "\n",
    "    def forward(self, x, t):\n",
    "        x_1 = self.resnet_left_1(x)\n",
    "        if self.is_debug:\n",
    "            print(\"Resnet left 1 shape:\", x_1.shape)\n",
    "        x, ind_1 = self.down_1(x_1)\n",
    "        if self.is_debug:\n",
    "            print(\"Down 1 shape:\", x.shape)\n",
    "        x_2 = self.resnet_left_2(x)\n",
    "        if self.is_debug:\n",
    "            print(\"Resnet left 2 shape:\", x_2.shape)\n",
    "        x, ind_2 = self.down_2(x_2)\n",
    "        if self.is_debug:\n",
    "            print(\"Down 2 shape:\", x.shape)\n",
    "        # x_3 = self.resnet_left_3(x)\n",
    "        # if self.is_debug:\n",
    "        #     print(\"Resnet left 3 shape:\", x_3.shape)\n",
    "        # x, ind_3 = self.down_3(x_3)\n",
    "        # if self.is_debug:\n",
    "        #     print(\"Down 3 shape:\", x.shape)\n",
    "        \n",
    "        if self.is_debug:\n",
    "            print(\"Time:\", t.shape)\n",
    "        time_emb = self.time_embedding(t)\n",
    "        batch_size, dim = time_emb.shape\n",
    "        time_emb = time_emb.view(batch_size, dim, 1, 1)\n",
    "        if self.is_debug:\n",
    "            print(\"Time embedding:\", time_emb.shape)\n",
    "        x = self.backbone(x + time_emb)\n",
    "        if self.is_debug:\n",
    "            print(\"Backbone shape:\", x.shape)\n",
    "        \n",
    "        # x = self.up_1(x, indices = ind_3)\n",
    "        # if self.is_debug:\n",
    "        #     print(\"Up 1 shape:\", x.shape)\n",
    "        # x = self.resnet_right_1(x + x_3)\n",
    "        # if self.is_debug:\n",
    "        #     print(\"Resnet right 1 shape:\", x.shape)\n",
    "        x = self.up_2(x, indices = ind_2)\n",
    "        x = self.resnet_right_2(x + x_2)\n",
    "        x = self.up_3(x, indices = ind_1)\n",
    "        x = self.resnet_right_3(x + x_1)\n",
    "        if self.is_debug:\n",
    "            print(\"Resnet right:\", x.shape)\n",
    "\n",
    "        return x"
   ]
  },
  {
   "cell_type": "code",
   "execution_count": 63,
   "metadata": {},
   "outputs": [],
   "source": [
    "transform_to_tensor = transforms.Compose([\n",
    "    transforms.ToTensor(),\n",
    "    transforms.Normalize(mean=[0.5], std=[0.5])\n",
    "])\n",
    "\n",
    "class UnNormalize(torch.nn.Module):\n",
    "    def __init__(self, mean, std) -> None:\n",
    "        super().__init__()\n",
    "        self.mean = torch.tensor(mean)\n",
    "        self.std = torch.tensor(std)\n",
    "    \n",
    "    def forward(self, tensor):\n",
    "        mean = self.mean.to(tensor.device)\n",
    "        std = self.std.to(tensor.device)\n",
    "        \n",
    "        # Clone the input tensor to avoid modifying the original tensor\n",
    "        tensor = tensor.clone()\n",
    "        \n",
    "        # Apply the un-normalization\n",
    "        unnormalized_tensor = tensor * std[:, None, None] + mean[:, None, None]\n",
    "        \n",
    "        return unnormalized_tensor\n",
    "    \n",
    "transform_to_pil = transforms.Compose([\n",
    "    UnNormalize(mean=[0.5], std=[0.5]),\n",
    "    transforms.ToPILImage()\n",
    "])"
   ]
  },
  {
   "cell_type": "code",
   "execution_count": 5,
   "metadata": {},
   "outputs": [],
   "source": [
    "train_dataset = torchvision.datasets.MNIST(root=\"./datasets\", download=True, transform=transform_to_tensor)\n",
    "train_dataloader = DataLoader(train_dataset, batch_size=128, shuffle=True, num_workers=2)\n",
    "\n",
    "test_dataset = torchvision.datasets.MNIST(root=\"./datasets\", download=True, transform=transform_to_tensor, train=False)\n",
    "test_dataloader = DataLoader(test_dataset, batch_size=128, shuffle=True, num_workers=2)"
   ]
  },
  {
   "cell_type": "code",
   "execution_count": 18,
   "metadata": {},
   "outputs": [],
   "source": [
    "import torch.backends\n",
    "import torch.backends.mps\n",
    "\n",
    "device = \"cuda\" if torch.cuda.is_available() else \"cpu\"\n",
    "# if torch.backends.mps.is_available():\n",
    "#     device = \"mps\"\n",
    "#     print(\"USE MPS\")\n",
    "\n",
    "# import os\n",
    "# os.environ['PYTORCH_ENABLE_MPS_FALLBACK'] = '1'"
   ]
  },
  {
   "cell_type": "code",
   "execution_count": 19,
   "metadata": {},
   "outputs": [],
   "source": [
    "T = 1000\n",
    "beta_schedule = torch.linspace(1e-4, 0.02, T, device=device)\n",
    "alpha_t_schedule = 1 - beta_schedule\n",
    "bar_alpha_t_schedule = torch.cumprod(alpha_t_schedule.detach().cpu(), 0).to(device)\n",
    "sqrt_bar_alpha_t_schedule = torch.sqrt(bar_alpha_t_schedule)\n",
    "sqrt_minus_bar_alpha_t_schedule = torch.sqrt(1 - bar_alpha_t_schedule)"
   ]
  },
  {
   "cell_type": "code",
   "execution_count": 20,
   "metadata": {},
   "outputs": [],
   "source": [
    "model = UNet(in_channels=1, out_channels=1)\n",
    "model = model.to(device)"
   ]
  },
  {
   "cell_type": "code",
   "execution_count": 24,
   "metadata": {},
   "outputs": [
    {
     "name": "stdout",
     "output_type": "stream",
     "text": [
      "Training loss for epoch 0: 0.5610\n",
      "Validation loss for epoch 0: 0.5607\n",
      "Training loss for epoch 1: 0.5605\n",
      "Validation loss for epoch 1: 0.5601\n",
      "Training loss for epoch 2: 0.5601\n",
      "Validation loss for epoch 2: 0.5609\n",
      "Training loss for epoch 3: 0.5599\n",
      "Validation loss for epoch 3: 0.5573\n",
      "Training loss for epoch 4: 0.5597\n",
      "Validation loss for epoch 4: 0.5594\n",
      "Training loss for epoch 5: 0.5588\n",
      "Validation loss for epoch 5: 0.5583\n",
      "Training loss for epoch 6: 0.5587\n",
      "Validation loss for epoch 6: 0.5568\n",
      "Training loss for epoch 7: 0.5586\n",
      "Validation loss for epoch 7: 0.5586\n",
      "Training loss for epoch 8: 0.5584\n",
      "Validation loss for epoch 8: 0.5582\n",
      "Training loss for epoch 9: 0.5583\n",
      "Validation loss for epoch 9: 0.5582\n"
     ]
    }
   ],
   "source": [
    "EPOCHS = 10\n",
    "optimizer = torch.optim.Adam(params=model.parameters(), lr=2e-4)\n",
    "criterion = nn.MSELoss()\n",
    "\n",
    "for epoch in range(EPOCHS):\n",
    "    model.train(True)\n",
    "    training_loss = 0\n",
    "    val_loss = 0\n",
    "    for (imgs, labels) in train_dataloader:\n",
    "        optimizer.zero_grad()\n",
    "        \n",
    "        imgs = imgs.to(device)\n",
    "        \n",
    "        t = torch.randint(low=0, high=T-1, size=(imgs.shape[0],), device=device, dtype=imgs.dtype)\n",
    "        noise = torch.randn_like(imgs, device=device)\n",
    "        long_t = t.long()\n",
    "        batch_size, channels, width, height = imgs.shape\n",
    "        noise_imgs = sqrt_bar_alpha_t_schedule[long_t].view((batch_size, 1, 1 ,1)) * imgs \\\n",
    "            + sqrt_minus_bar_alpha_t_schedule[long_t].view((batch_size, 1, 1, 1)) * noise\n",
    "        \n",
    "        pred_noise = model(noise_imgs, t.unsqueeze(1))\n",
    "\n",
    "        loss = criterion(pred_noise, noise)\n",
    "\n",
    "        loss.backward()\n",
    "        optimizer.step()\n",
    "        training_loss += loss.item() * imgs.shape[0]\n",
    "    model.eval()\n",
    "\n",
    "    for (imgs, labels) in test_dataloader:\n",
    "        imgs = imgs.to(device)\n",
    "        \n",
    "        t = torch.randint(low=0, high=T-1, size=(imgs.shape[0],), device=device, dtype=imgs.dtype)\n",
    "        noise = torch.randn_like(imgs, device=device)\n",
    "        long_t = t.long()\n",
    "        batch_size, channels, width, height = imgs.shape\n",
    "        noise_imgs = sqrt_bar_alpha_t_schedule[long_t].view((batch_size, 1, 1 ,1)) * imgs \\\n",
    "            + sqrt_minus_bar_alpha_t_schedule[long_t].view((batch_size, 1, 1, 1)) * noise\n",
    "        \n",
    "        pred_noise = model(noise_imgs, t.unsqueeze(1))\n",
    "\n",
    "        loss = criterion(pred_noise, noise)\n",
    "\n",
    "        val_loss += loss.item() * imgs.shape[0]\n",
    "    print(f\"Training loss for epoch {epoch}: {training_loss / len(train_dataset):.4f}\")\n",
    "    print(f\"Validation loss for epoch {epoch}: {val_loss / len(test_dataset):.4f}\")"
   ]
  },
  {
   "cell_type": "code",
   "execution_count": 69,
   "metadata": {},
   "outputs": [],
   "source": [
    "x_t = torch.rand_like(train_dataset[0][0]).unsqueeze(0)\n",
    "for t in range(T-1, -1, -1):\n",
    "    z = torch.rand_like(x_t) if t > 0 else 0\n",
    "    t_tensor = torch.tensor([t], dtype=x_t.dtype, device=device).unsqueeze(0)\n",
    "    pred_noise = model(x_t, t_tensor)\n",
    "    x_t = 1 / alpha_t_schedule[t] * (x_t - pred_noise * (1 - alpha_t_schedule[t]) / sqrt_minus_bar_alpha_t_schedule[t]) + torch.sqrt(beta_schedule[t])\n",
    "\n",
    "plt.imshow(transform_to_pil(x_t[0]), cmap='gray')"
   ]
  },
  {
   "cell_type": "code",
   "execution_count": 66,
   "metadata": {},
   "outputs": [
    {
     "name": "stdout",
     "output_type": "stream",
     "text": [
      "tensor(0., grad_fn=<MinBackward1>) tensor(1.8932, grad_fn=<MaxBackward1>)\n"
     ]
    },
    {
     "data": {
      "image/png": "[encoded data removed]",
      "text/plain": [
       "<PIL.Image.Image image mode=L size=28x28>"
      ]
     },
     "execution_count": 66,
     "metadata": {},
     "output_type": "execute_result"
    }
   ],
   "source": [
    "# x_t_1 = torch.rand_like(train_dataset[0][0], requires_grad=False).unsqueeze(0)\n",
    "# t_tensor = torch.tensor([500], dtype=x_t.dtype, device=device, requires_grad=False).unsqueeze(0)\n",
    "# pred_noise = model(x_t_1, t_tensor)\n",
    "# print(pred_noise.min(), pred_noise.max())\n",
    "# transform_to_pil(pred_noise[0])\n",
    "# x_t_1 = 1 / alpha_t_schedule[t] * (x_t - pred_noise * (1 - alpha_t_schedule[t]) / sqrt_minus_bar_alpha_t_schedule[t])"
   ]
  },
  {
   "cell_type": "code",
   "execution_count": 70,
   "metadata": {},
   "outputs": [
    {
     "data": {
      "text/plain": [
       "<matplotlib.image.AxesImage at 0x2b83673a0>"
      ]
     },
     "execution_count": 70,
     "metadata": {},
     "output_type": "execute_result"
    },
    {
     "data": {
      "image/png": "[encoded data removed]",
      "text/plain": [
       "<Figure size 640x480 with 1 Axes>"
      ]
     },
     "metadata": {},
     "output_type": "display_data"
    }
   ],
   "source": [
    "plt.imshow(transform_to_pil(x_t[0]), cmap='gray')"
   ]
  },
  {
   "cell_type": "code",
   "execution_count": null,
   "metadata": {},
   "outputs": [
    {
     "data": {
      "text/plain": [
       "<matplotlib.image.AxesImage at 0x2a4deeeb0>"
      ]
     },
     "execution_count": 69,
     "metadata": {},
     "output_type": "execute_result"
    },
    {
     "data": {
      "image/png": "[encoded data removed]",
      "text/plain": [
       "<Figure size 600x300 with 2 Axes>"
      ]
     },
     "metadata": {},
     "output_type": "display_data"
    }
   ],
   "source": [
    "# img, index = next(iter(train_dataloader))\n",
    "# revert_image = transform_to_pil(img[0])\n",
    "# fig, axes = plt.subplots(1, 2, figsize=(6, 3))\n",
    "# # axes[0].imshow(img[0], cmap='gray')\n",
    "# axes[1].imshow(revert_image, cmap='gray')\n",
    "\n",
    "# img, index = dataset[20]\n",
    "# tensor = torchvision.transforms.ToTensor()(img)\n",
    "\n",
    "# fig, axes = plt.subplots(1, 5, figsize=(15, 3))\n",
    "# axes[0].imshow(img, cmap='gray')\n",
    "# index = 1\n",
    "# for t in [1, 4, 8, 40]:\n",
    "#     noise = torch.randn_like(tensor)\n",
    "#     new_image = sqrt_bar_alpha_t_schedule[t] * tensor + sqrt_minus_bar_alpha_t_schedule[t] * noise\n",
    "#     axes[index].imshow(torchvision.transforms.ToPILImage()(new_image), cmap='gray')\n",
    "#     index += 1"
   ]
  }
 ],
 "metadata": {
  "kernelspec": {
   "display_name": "pytorch_gpu_m1",
   "language": "python",
   "name": "python3"
  },
  "language_info": {
   "codemirror_mode": {
    "name": "ipython",
    "version": 3
   },
   "file_extension": ".py",
   "mimetype": "text/x-python",
   "name": "python",
   "nbconvert_exporter": "python",
   "pygments_lexer": "ipython3",
   "version": "3.9.13"
  }
 },
 "nbformat": 4,
 "nbformat_minor": 2
}

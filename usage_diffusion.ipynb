{
 "cells": [
  {
   "cell_type": "code",
   "execution_count": 1,
   "metadata": {},
   "outputs": [],
   "source": [
    "import torch\n",
    "import torch.nn as nn\n",
    "import torchvision\n",
    "import torchvision.transforms as transforms\n",
    "import matplotlib.pyplot as plt\n",
    "from torch.utils.data import DataLoader\n",
    "import tqdm"
   ]
  },
  {
   "cell_type": "code",
   "execution_count": 2,
   "metadata": {},
   "outputs": [],
   "source": [
    "class DoubleConvBlock(nn.Module):\n",
    "    def __init__(self, in_channels, out_channels, is_debug=False):\n",
    "        super().__init__()\n",
    "        self.conv = nn.Sequential(\n",
    "            nn.Conv2d(in_channels=in_channels, out_channels=out_channels, kernel_size=3, padding=1),\n",
    "            nn.GroupNorm(8, out_channels),\n",
    "            nn.ReLU(inplace=True),\n",
    "            nn.Conv2d(in_channels=out_channels, out_channels=out_channels, kernel_size=3, padding=1),\n",
    "            nn.GroupNorm(8, out_channels),\n",
    "            nn.ReLU(inplace=True),\n",
    "        )\n",
    "        self.is_debug = is_debug\n",
    "\n",
    "    def forward(self, x, t = None, has_attn = False):\n",
    "        return self.conv(x)\n",
    "    \n",
    "class DownBlock(nn.Module):\n",
    "    def __init__(self, in_channels, out_channels, is_debug=False):\n",
    "        super().__init__()\n",
    "        self.conv = DoubleConvBlock(in_channels=in_channels, out_channels=out_channels, is_debug=is_debug)\n",
    "        self.pool = nn.MaxPool2d(kernel_size=2)\n",
    "        self.is_debug = is_debug\n",
    "    def forward(self, x):\n",
    "        x = self.conv(x)\n",
    "        return self.pool(x)\n",
    "    \n",
    "class UpBlock(nn.Module):\n",
    "    def __init__(self, in_channels, out_channels, is_debug=False):\n",
    "        super().__init__()\n",
    "        self.upscale = nn.ConvTranspose2d(in_channels=in_channels, out_channels=in_channels, kernel_size=2, stride=2)\n",
    "        self.conv = DoubleConvBlock(in_channels=in_channels, out_channels=out_channels, is_debug=is_debug)\n",
    "        self.is_debug = is_debug\n",
    "    def forward(self, x, skip):\n",
    "        x = self.upscale(torch.cat([x, skip], 1))\n",
    "        return self.conv(x)\n",
    "    \n",
    "class PositionalEmbedding(nn.Module):\n",
    "    def __init__(self, output_dim) -> None:\n",
    "        super().__init__()\n",
    "\n",
    "        self.ln = nn.Linear(1, output_dim)\n",
    "\n",
    "    def forward(self, x):\n",
    "        return self.ln(x)\n",
    "\n",
    "class UNet(nn.Module):\n",
    "    def __init__(self, in_channels, out_channels, hid_size = 256, is_debug = False):\n",
    "        super().__init__()\n",
    "        self.is_debug = is_debug\n",
    "        self.down_1 = DownBlock(in_channels=in_channels, out_channels=hid_size)\n",
    "        self.down_2 = DownBlock(in_channels=hid_size, out_channels=hid_size * 2)\n",
    "        # self.resnet_left_3 = ResnetBlock(in_channels=hid_size * 2, out_channels=hid_size * 4)\n",
    "        # self.down_3 = nn.MaxPool2d(kernel_size=2, return_indices=True)\n",
    "\n",
    "        self.time_embedding = PositionalEmbedding(hid_size * 2)\n",
    "        self.backbone = DoubleConvBlock(in_channels=hid_size * 2, out_channels=hid_size * 2)\n",
    "\n",
    "        # self.up_1 = nn.ConvTranspose2d(in_channels=hid_size * 4, out_channels=hid_size * 4, kernel_size=2, stride=2)\n",
    "        # self.resnet_right_1 = ResnetBlock(in_channels=hid_size * 4, out_channels=hid_size * 2)\n",
    "        self.up_2 = UpBlock(in_channels=hid_size * 4, out_channels=hid_size)\n",
    "        self.up_3 = UpBlock(in_channels=hid_size * 2, out_channels=hid_size)\n",
    "        self.out = nn.Conv2d(in_channels=hid_size, out_channels=out_channels, kernel_size=3, stride=1, padding=1)\n",
    "\n",
    "    def forward(self, x, t):\n",
    "        down_1 = self.down_1(x)\n",
    "        if self.is_debug:\n",
    "            print(\"Down 1 shape:\", down_1.shape)\n",
    "        down_2 = self.down_2(down_1)\n",
    "        if self.is_debug:\n",
    "            print(\"Down 2 shape:\", down_2.shape)\n",
    "        # x_3 = self.resnet_left_3(x)\n",
    "        # if self.is_debug:\n",
    "        #     print(\"Resnet left 3 shape:\", x_3.shape)\n",
    "        # x, ind_3 = self.down_3(x_3)\n",
    "        # if self.is_debug:\n",
    "        #     print(\"Down 3 shape:\", x.shape)\n",
    "        \n",
    "        # if self.is_debug:\n",
    "        #     print(\"Time:\", t.shape)\n",
    "        # time_emb = self.time_embedding(t)\n",
    "        # batch_size, dim = time_emb.shape\n",
    "        # time_emb = time_emb.view(batch_size, dim, 1, 1)\n",
    "        # if self.is_debug:\n",
    "        #     print(\"Time embedding:\", time_emb.shape)\n",
    "        # x = self.backbone(x + time_emb)\n",
    "        x = self.backbone(down_2)\n",
    "        \n",
    "        # x = self.up_1(x, indices = ind_3)\n",
    "        # if self.is_debug:\n",
    "        #     print(\"Up 1 shape:\", x.shape)\n",
    "        # x = self.resnet_right_1(x + x_3)\n",
    "        # if self.is_debug:\n",
    "        #     print(\"Resnet right 1 shape:\", x.shape)\n",
    "        x = self.up_2(x, down_2)\n",
    "        if self.is_debug:\n",
    "            print(\"Up 2 shape:\", x.shape)\n",
    "        x = self.up_3(x, down_1)\n",
    "        if self.is_debug:\n",
    "            print(\"Up 1 shape:\", x.shape)\n",
    "        x = self.out(x)\n",
    "\n",
    "        return x\n",
    "    \n",
    "# test_unet = UNet(in_channels=1, out_channels=1, is_debug=True)\n",
    "# test_unet(train_dataset[0][0].unsqueeze(0), torch.tensor([[1]], dtype=torch.float))"
   ]
  },
  {
   "cell_type": "code",
   "execution_count": 3,
   "metadata": {},
   "outputs": [],
   "source": [
    "import torch\n",
    "import gc\n",
    "\n",
    "# Collect garbage\n",
    "gc.collect()\n",
    "\n",
    "# Empty the PyTorch cache\n",
    "torch.cuda.empty_cache()"
   ]
  },
  {
   "cell_type": "code",
   "execution_count": 4,
   "metadata": {},
   "outputs": [],
   "source": [
    "transform_to_tensor = transforms.Compose([\n",
    "    transforms.ToTensor(),\n",
    "    transforms.Normalize(mean=[0.5], std=[0.5])\n",
    "])\n",
    "\n",
    "class UnNormalize(torch.nn.Module):\n",
    "    def __init__(self, mean, std) -> None:\n",
    "        super().__init__()\n",
    "        self.mean = torch.tensor(mean)\n",
    "        self.std = torch.tensor(std)\n",
    "    \n",
    "    def forward(self, tensor):\n",
    "        mean = self.mean.to(tensor.device)\n",
    "        std = self.std.to(tensor.device)\n",
    "        \n",
    "        # Clone the input tensor to avoid modifying the original tensor\n",
    "        tensor = tensor.clone()\n",
    "        \n",
    "        # Apply the un-normalization\n",
    "        unnormalized_tensor = tensor * std[:, None, None] + mean[:, None, None]\n",
    "        \n",
    "        return unnormalized_tensor\n",
    "    \n",
    "transform_to_pil = transforms.Compose([\n",
    "    UnNormalize(mean=[0.5], std=[0.5]),\n",
    "    transforms.ToPILImage()\n",
    "])\n",
    "\n",
    "# plt.imshow(transform_to_pil(train_dataset[0][0]), cmap='gray')"
   ]
  },
  {
   "cell_type": "code",
   "execution_count": 5,
   "metadata": {},
   "outputs": [],
   "source": [
    "train_dataset = torchvision.datasets.MNIST(root=\"./datasets\", download=True, transform=transform_to_tensor)\n",
    "train_dataloader = DataLoader(train_dataset, batch_size=128, shuffle=True, num_workers=2)\n",
    "\n",
    "test_dataset = torchvision.datasets.MNIST(root=\"./datasets\", download=True, transform=transform_to_tensor, train=False)\n",
    "test_dataloader = DataLoader(test_dataset, batch_size=128, shuffle=True, num_workers=2)"
   ]
  },
  {
   "cell_type": "code",
   "execution_count": 6,
   "metadata": {},
   "outputs": [
    {
     "name": "stdout",
     "output_type": "stream",
     "text": [
      "USE MPS\n",
      "Conv 1 shape: torch.Size([1, 256, 28, 28])\n",
      "Group 1 shape: torch.Size([1, 256, 28, 28])\n",
      "Resnet left 1 shape: torch.Size([1, 256, 28, 28])\n",
      "Down 1 shape: torch.Size([1, 256, 14, 14])\n",
      "Resnet left 2 shape: torch.Size([1, 512, 14, 14])\n",
      "Down 2 shape: torch.Size([1, 512, 7, 7])\n",
      "Time: torch.Size([1, 1])\n",
      "Time embedding: torch.Size([1, 512, 1, 1])\n",
      "Backbone shape: torch.Size([1, 512, 7, 7])\n",
      "Up 2 shape: torch.Size([1, 512, 14, 14])\n",
      "Conv 1 shape: torch.Size([1, 1, 28, 28])\n",
      "Group 1 shape: torch.Size([1, 1, 28, 28])\n",
      "Resnet right: torch.Size([1, 1, 28, 28])\n"
     ]
    }
   ],
   "source": [
    "import torch.backends\n",
    "import torch.backends.mps\n",
    "\n",
    "device = \"cuda\" if torch.cuda.is_available() else \"cpu\"\n",
    "if torch.backends.mps.is_available():\n",
    "    device = \"mps\"\n",
    "    print(\"USE MPS\")\n",
    "    test_unet = UNet(in_channels=1, out_channels=1, is_debug=True).to(device)\n",
    "    test_unet(train_dataset[0][0].unsqueeze(0).to(device), torch.tensor([[1]], dtype=torch.float, device=device))\n",
    "\n",
    "# import os\n",
    "# os.environ['PYTORCH_ENABLE_MPS_FALLBACK'] = '1'"
   ]
  },
  {
   "cell_type": "code",
   "execution_count": 7,
   "metadata": {},
   "outputs": [],
   "source": [
    "T = 1000\n",
    "beta_schedule = torch.linspace(1e-4, 0.02, T, device=device)\n",
    "alpha_t_schedule = 1 - beta_schedule\n",
    "bar_alpha_t_schedule = torch.cumprod(alpha_t_schedule.detach().cpu(), 0).to(device)\n",
    "sqrt_bar_alpha_t_schedule = torch.sqrt(bar_alpha_t_schedule)\n",
    "sqrt_minus_bar_alpha_t_schedule = torch.sqrt(1 - bar_alpha_t_schedule)"
   ]
  },
  {
   "cell_type": "code",
   "execution_count": 8,
   "metadata": {},
   "outputs": [],
   "source": [
    "model = UNet(in_channels=1, out_channels=1)\n",
    "model = model.to(device)\n",
    "\n",
    "optimizer = torch.optim.Adam(params=model.parameters(), lr=2e-4)\n",
    "criterion = nn.MSELoss()"
   ]
  },
  {
   "cell_type": "code",
   "execution_count": 9,
   "metadata": {},
   "outputs": [],
   "source": [
    "# torch.save({\n",
    "#     \"model\": model.state_dict(),\n",
    "#     \"optimizer\": optimizer.state_dict()\n",
    "# }, \"training_data.pth\")"
   ]
  },
  {
   "cell_type": "code",
   "execution_count": 10,
   "metadata": {},
   "outputs": [],
   "source": [
    "(imgs, labels) = next(iter(train_dataloader))"
   ]
  },
  {
   "cell_type": "code",
   "execution_count": 12,
   "metadata": {},
   "outputs": [],
   "source": [
    "imgs.shape\n",
    "imgs = imgs.to(device)\n",
    "        \n",
    "t = torch.randint(low=0, high=T-1, size=(imgs.shape[0],), device=device, dtype=imgs.dtype)\n",
    "noise = torch.randn_like(imgs, device=device)\n",
    "long_t = t.long()\n",
    "batch_size, channels, width, height = imgs.shape\n",
    "noise_imgs = sqrt_bar_alpha_t_schedule[long_t].view((batch_size, 1, 1 ,1)) * imgs \\\n",
    "    + sqrt_minus_bar_alpha_t_schedule[long_t].view((batch_size, 1, 1, 1)) * noise"
   ]
  },
  {
   "cell_type": "code",
   "execution_count": 11,
   "metadata": {},
   "outputs": [
    {
     "name": "stderr",
     "output_type": "stream",
     "text": [
      "  0%|          | 0/10 [00:00<?, ?it/s]\n"
     ]
    },
    {
     "ename": "KeyboardInterrupt",
     "evalue": "",
     "output_type": "error",
     "traceback": [
      "\u001b[0;31m---------------------------------------------------------------------------\u001b[0m",
      "\u001b[0;31mKeyboardInterrupt\u001b[0m                         Traceback (most recent call last)",
      "Cell \u001b[0;32mIn [11], line 9\u001b[0m\n\u001b[1;32m      7\u001b[0m training_loss \u001b[38;5;241m=\u001b[39m \u001b[38;5;241m0\u001b[39m\n\u001b[1;32m      8\u001b[0m val_loss \u001b[38;5;241m=\u001b[39m \u001b[38;5;241m0\u001b[39m\n\u001b[0;32m----> 9\u001b[0m \u001b[38;5;28;01mfor\u001b[39;00m (imgs, labels) \u001b[38;5;129;01min\u001b[39;00m train_dataloader:\n\u001b[1;32m     10\u001b[0m     optimizer\u001b[38;5;241m.\u001b[39mzero_grad()\n\u001b[1;32m     12\u001b[0m     imgs \u001b[38;5;241m=\u001b[39m imgs\u001b[38;5;241m.\u001b[39mto(device)\n",
      "File \u001b[0;32m~/miniforge3/envs/pytorch_gpu_m1/lib/python3.9/site-packages/torch/utils/data/dataloader.py:633\u001b[0m, in \u001b[0;36m_BaseDataLoaderIter.__next__\u001b[0;34m(self)\u001b[0m\n\u001b[1;32m    630\u001b[0m \u001b[38;5;28;01mif\u001b[39;00m \u001b[38;5;28mself\u001b[39m\u001b[38;5;241m.\u001b[39m_sampler_iter \u001b[38;5;129;01mis\u001b[39;00m \u001b[38;5;28;01mNone\u001b[39;00m:\n\u001b[1;32m    631\u001b[0m     \u001b[38;5;66;03m# TODO(https://github.com/pytorch/pytorch/issues/76750)\u001b[39;00m\n\u001b[1;32m    632\u001b[0m     \u001b[38;5;28mself\u001b[39m\u001b[38;5;241m.\u001b[39m_reset()  \u001b[38;5;66;03m# type: ignore[call-arg]\u001b[39;00m\n\u001b[0;32m--> 633\u001b[0m data \u001b[38;5;241m=\u001b[39m \u001b[38;5;28;43mself\u001b[39;49m\u001b[38;5;241;43m.\u001b[39;49m\u001b[43m_next_data\u001b[49m\u001b[43m(\u001b[49m\u001b[43m)\u001b[49m\n\u001b[1;32m    634\u001b[0m \u001b[38;5;28mself\u001b[39m\u001b[38;5;241m.\u001b[39m_num_yielded \u001b[38;5;241m+\u001b[39m\u001b[38;5;241m=\u001b[39m \u001b[38;5;241m1\u001b[39m\n\u001b[1;32m    635\u001b[0m \u001b[38;5;28;01mif\u001b[39;00m \u001b[38;5;28mself\u001b[39m\u001b[38;5;241m.\u001b[39m_dataset_kind \u001b[38;5;241m==\u001b[39m _DatasetKind\u001b[38;5;241m.\u001b[39mIterable \u001b[38;5;129;01mand\u001b[39;00m \\\n\u001b[1;32m    636\u001b[0m         \u001b[38;5;28mself\u001b[39m\u001b[38;5;241m.\u001b[39m_IterableDataset_len_called \u001b[38;5;129;01mis\u001b[39;00m \u001b[38;5;129;01mnot\u001b[39;00m \u001b[38;5;28;01mNone\u001b[39;00m \u001b[38;5;129;01mand\u001b[39;00m \\\n\u001b[1;32m    637\u001b[0m         \u001b[38;5;28mself\u001b[39m\u001b[38;5;241m.\u001b[39m_num_yielded \u001b[38;5;241m>\u001b[39m \u001b[38;5;28mself\u001b[39m\u001b[38;5;241m.\u001b[39m_IterableDataset_len_called:\n",
      "File \u001b[0;32m~/miniforge3/envs/pytorch_gpu_m1/lib/python3.9/site-packages/torch/utils/data/dataloader.py:1328\u001b[0m, in \u001b[0;36m_MultiProcessingDataLoaderIter._next_data\u001b[0;34m(self)\u001b[0m\n\u001b[1;32m   1325\u001b[0m     \u001b[38;5;28;01mreturn\u001b[39;00m \u001b[38;5;28mself\u001b[39m\u001b[38;5;241m.\u001b[39m_process_data(data)\n\u001b[1;32m   1327\u001b[0m \u001b[38;5;28;01massert\u001b[39;00m \u001b[38;5;129;01mnot\u001b[39;00m \u001b[38;5;28mself\u001b[39m\u001b[38;5;241m.\u001b[39m_shutdown \u001b[38;5;129;01mand\u001b[39;00m \u001b[38;5;28mself\u001b[39m\u001b[38;5;241m.\u001b[39m_tasks_outstanding \u001b[38;5;241m>\u001b[39m \u001b[38;5;241m0\u001b[39m\n\u001b[0;32m-> 1328\u001b[0m idx, data \u001b[38;5;241m=\u001b[39m \u001b[38;5;28;43mself\u001b[39;49m\u001b[38;5;241;43m.\u001b[39;49m\u001b[43m_get_data\u001b[49m\u001b[43m(\u001b[49m\u001b[43m)\u001b[49m\n\u001b[1;32m   1329\u001b[0m \u001b[38;5;28mself\u001b[39m\u001b[38;5;241m.\u001b[39m_tasks_outstanding \u001b[38;5;241m-\u001b[39m\u001b[38;5;241m=\u001b[39m \u001b[38;5;241m1\u001b[39m\n\u001b[1;32m   1330\u001b[0m \u001b[38;5;28;01mif\u001b[39;00m \u001b[38;5;28mself\u001b[39m\u001b[38;5;241m.\u001b[39m_dataset_kind \u001b[38;5;241m==\u001b[39m _DatasetKind\u001b[38;5;241m.\u001b[39mIterable:\n\u001b[1;32m   1331\u001b[0m     \u001b[38;5;66;03m# Check for _IterableDatasetStopIteration\u001b[39;00m\n",
      "File \u001b[0;32m~/miniforge3/envs/pytorch_gpu_m1/lib/python3.9/site-packages/torch/utils/data/dataloader.py:1294\u001b[0m, in \u001b[0;36m_MultiProcessingDataLoaderIter._get_data\u001b[0;34m(self)\u001b[0m\n\u001b[1;32m   1290\u001b[0m     \u001b[38;5;66;03m# In this case, `self._data_queue` is a `queue.Queue`,. But we don't\u001b[39;00m\n\u001b[1;32m   1291\u001b[0m     \u001b[38;5;66;03m# need to call `.task_done()` because we don't use `.join()`.\u001b[39;00m\n\u001b[1;32m   1292\u001b[0m \u001b[38;5;28;01melse\u001b[39;00m:\n\u001b[1;32m   1293\u001b[0m     \u001b[38;5;28;01mwhile\u001b[39;00m \u001b[38;5;28;01mTrue\u001b[39;00m:\n\u001b[0;32m-> 1294\u001b[0m         success, data \u001b[38;5;241m=\u001b[39m \u001b[38;5;28;43mself\u001b[39;49m\u001b[38;5;241;43m.\u001b[39;49m\u001b[43m_try_get_data\u001b[49m\u001b[43m(\u001b[49m\u001b[43m)\u001b[49m\n\u001b[1;32m   1295\u001b[0m         \u001b[38;5;28;01mif\u001b[39;00m success:\n\u001b[1;32m   1296\u001b[0m             \u001b[38;5;28;01mreturn\u001b[39;00m data\n",
      "File \u001b[0;32m~/miniforge3/envs/pytorch_gpu_m1/lib/python3.9/site-packages/torch/utils/data/dataloader.py:1132\u001b[0m, in \u001b[0;36m_MultiProcessingDataLoaderIter._try_get_data\u001b[0;34m(self, timeout)\u001b[0m\n\u001b[1;32m   1119\u001b[0m \u001b[38;5;28;01mdef\u001b[39;00m \u001b[38;5;21m_try_get_data\u001b[39m(\u001b[38;5;28mself\u001b[39m, timeout\u001b[38;5;241m=\u001b[39m_utils\u001b[38;5;241m.\u001b[39mMP_STATUS_CHECK_INTERVAL):\n\u001b[1;32m   1120\u001b[0m     \u001b[38;5;66;03m# Tries to fetch data from `self._data_queue` once for a given timeout.\u001b[39;00m\n\u001b[1;32m   1121\u001b[0m     \u001b[38;5;66;03m# This can also be used as inner loop of fetching without timeout, with\u001b[39;00m\n\u001b[0;32m   (...)\u001b[0m\n\u001b[1;32m   1129\u001b[0m     \u001b[38;5;66;03m# Returns a 2-tuple:\u001b[39;00m\n\u001b[1;32m   1130\u001b[0m     \u001b[38;5;66;03m#   (bool: whether successfully get data, any: data if successful else None)\u001b[39;00m\n\u001b[1;32m   1131\u001b[0m     \u001b[38;5;28;01mtry\u001b[39;00m:\n\u001b[0;32m-> 1132\u001b[0m         data \u001b[38;5;241m=\u001b[39m \u001b[38;5;28;43mself\u001b[39;49m\u001b[38;5;241;43m.\u001b[39;49m\u001b[43m_data_queue\u001b[49m\u001b[38;5;241;43m.\u001b[39;49m\u001b[43mget\u001b[49m\u001b[43m(\u001b[49m\u001b[43mtimeout\u001b[49m\u001b[38;5;241;43m=\u001b[39;49m\u001b[43mtimeout\u001b[49m\u001b[43m)\u001b[49m\n\u001b[1;32m   1133\u001b[0m         \u001b[38;5;28;01mreturn\u001b[39;00m (\u001b[38;5;28;01mTrue\u001b[39;00m, data)\n\u001b[1;32m   1134\u001b[0m     \u001b[38;5;28;01mexcept\u001b[39;00m \u001b[38;5;167;01mException\u001b[39;00m \u001b[38;5;28;01mas\u001b[39;00m e:\n\u001b[1;32m   1135\u001b[0m         \u001b[38;5;66;03m# At timeout and error, we manually check whether any worker has\u001b[39;00m\n\u001b[1;32m   1136\u001b[0m         \u001b[38;5;66;03m# failed. Note that this is the only mechanism for Windows to detect\u001b[39;00m\n\u001b[1;32m   1137\u001b[0m         \u001b[38;5;66;03m# worker failures.\u001b[39;00m\n",
      "File \u001b[0;32m~/miniforge3/envs/pytorch_gpu_m1/lib/python3.9/multiprocessing/queues.py:113\u001b[0m, in \u001b[0;36mQueue.get\u001b[0;34m(self, block, timeout)\u001b[0m\n\u001b[1;32m    111\u001b[0m \u001b[38;5;28;01mif\u001b[39;00m block:\n\u001b[1;32m    112\u001b[0m     timeout \u001b[38;5;241m=\u001b[39m deadline \u001b[38;5;241m-\u001b[39m time\u001b[38;5;241m.\u001b[39mmonotonic()\n\u001b[0;32m--> 113\u001b[0m     \u001b[38;5;28;01mif\u001b[39;00m \u001b[38;5;129;01mnot\u001b[39;00m \u001b[38;5;28;43mself\u001b[39;49m\u001b[38;5;241;43m.\u001b[39;49m\u001b[43m_poll\u001b[49m\u001b[43m(\u001b[49m\u001b[43mtimeout\u001b[49m\u001b[43m)\u001b[49m:\n\u001b[1;32m    114\u001b[0m         \u001b[38;5;28;01mraise\u001b[39;00m Empty\n\u001b[1;32m    115\u001b[0m \u001b[38;5;28;01melif\u001b[39;00m \u001b[38;5;129;01mnot\u001b[39;00m \u001b[38;5;28mself\u001b[39m\u001b[38;5;241m.\u001b[39m_poll():\n",
      "File \u001b[0;32m~/miniforge3/envs/pytorch_gpu_m1/lib/python3.9/multiprocessing/connection.py:262\u001b[0m, in \u001b[0;36m_ConnectionBase.poll\u001b[0;34m(self, timeout)\u001b[0m\n\u001b[1;32m    260\u001b[0m \u001b[38;5;28mself\u001b[39m\u001b[38;5;241m.\u001b[39m_check_closed()\n\u001b[1;32m    261\u001b[0m \u001b[38;5;28mself\u001b[39m\u001b[38;5;241m.\u001b[39m_check_readable()\n\u001b[0;32m--> 262\u001b[0m \u001b[38;5;28;01mreturn\u001b[39;00m \u001b[38;5;28;43mself\u001b[39;49m\u001b[38;5;241;43m.\u001b[39;49m\u001b[43m_poll\u001b[49m\u001b[43m(\u001b[49m\u001b[43mtimeout\u001b[49m\u001b[43m)\u001b[49m\n",
      "File \u001b[0;32m~/miniforge3/envs/pytorch_gpu_m1/lib/python3.9/multiprocessing/connection.py:429\u001b[0m, in \u001b[0;36mConnection._poll\u001b[0;34m(self, timeout)\u001b[0m\n\u001b[1;32m    428\u001b[0m \u001b[38;5;28;01mdef\u001b[39;00m \u001b[38;5;21m_poll\u001b[39m(\u001b[38;5;28mself\u001b[39m, timeout):\n\u001b[0;32m--> 429\u001b[0m     r \u001b[38;5;241m=\u001b[39m \u001b[43mwait\u001b[49m\u001b[43m(\u001b[49m\u001b[43m[\u001b[49m\u001b[38;5;28;43mself\u001b[39;49m\u001b[43m]\u001b[49m\u001b[43m,\u001b[49m\u001b[43m \u001b[49m\u001b[43mtimeout\u001b[49m\u001b[43m)\u001b[49m\n\u001b[1;32m    430\u001b[0m     \u001b[38;5;28;01mreturn\u001b[39;00m \u001b[38;5;28mbool\u001b[39m(r)\n",
      "File \u001b[0;32m~/miniforge3/envs/pytorch_gpu_m1/lib/python3.9/multiprocessing/connection.py:936\u001b[0m, in \u001b[0;36mwait\u001b[0;34m(object_list, timeout)\u001b[0m\n\u001b[1;32m    933\u001b[0m     deadline \u001b[38;5;241m=\u001b[39m time\u001b[38;5;241m.\u001b[39mmonotonic() \u001b[38;5;241m+\u001b[39m timeout\n\u001b[1;32m    935\u001b[0m \u001b[38;5;28;01mwhile\u001b[39;00m \u001b[38;5;28;01mTrue\u001b[39;00m:\n\u001b[0;32m--> 936\u001b[0m     ready \u001b[38;5;241m=\u001b[39m \u001b[43mselector\u001b[49m\u001b[38;5;241;43m.\u001b[39;49m\u001b[43mselect\u001b[49m\u001b[43m(\u001b[49m\u001b[43mtimeout\u001b[49m\u001b[43m)\u001b[49m\n\u001b[1;32m    937\u001b[0m     \u001b[38;5;28;01mif\u001b[39;00m ready:\n\u001b[1;32m    938\u001b[0m         \u001b[38;5;28;01mreturn\u001b[39;00m [key\u001b[38;5;241m.\u001b[39mfileobj \u001b[38;5;28;01mfor\u001b[39;00m (key, events) \u001b[38;5;129;01min\u001b[39;00m ready]\n",
      "File \u001b[0;32m~/miniforge3/envs/pytorch_gpu_m1/lib/python3.9/selectors.py:416\u001b[0m, in \u001b[0;36m_PollLikeSelector.select\u001b[0;34m(self, timeout)\u001b[0m\n\u001b[1;32m    414\u001b[0m ready \u001b[38;5;241m=\u001b[39m []\n\u001b[1;32m    415\u001b[0m \u001b[38;5;28;01mtry\u001b[39;00m:\n\u001b[0;32m--> 416\u001b[0m     fd_event_list \u001b[38;5;241m=\u001b[39m \u001b[38;5;28;43mself\u001b[39;49m\u001b[38;5;241;43m.\u001b[39;49m\u001b[43m_selector\u001b[49m\u001b[38;5;241;43m.\u001b[39;49m\u001b[43mpoll\u001b[49m\u001b[43m(\u001b[49m\u001b[43mtimeout\u001b[49m\u001b[43m)\u001b[49m\n\u001b[1;32m    417\u001b[0m \u001b[38;5;28;01mexcept\u001b[39;00m \u001b[38;5;167;01mInterruptedError\u001b[39;00m:\n\u001b[1;32m    418\u001b[0m     \u001b[38;5;28;01mreturn\u001b[39;00m ready\n",
      "\u001b[0;31mKeyboardInterrupt\u001b[0m: "
     ]
    },
    {
     "ename": "",
     "evalue": "",
     "output_type": "error",
     "traceback": [
      "\u001b[1;31mThe Kernel crashed while executing code in the current cell or a previous cell. \n",
      "\u001b[1;31mPlease review the code in the cell(s) to identify a possible cause of the failure. \n",
      "\u001b[1;31mClick <a href='https://aka.ms/vscodeJupyterKernelCrash'>here</a> for more info. \n",
      "\u001b[1;31mView Jupyter <a href='command:jupyter.viewOutput'>log</a> for further details."
     ]
    }
   ],
   "source": [
    "EPOCHS = 10\n",
    "\n",
    "training_losses = []\n",
    "val_losses = []\n",
    "for epoch in tqdm.tqdm(range(EPOCHS)):\n",
    "    model.train(True)\n",
    "    training_loss = 0\n",
    "    val_loss = 0\n",
    "    for (imgs, labels) in train_dataloader:\n",
    "        optimizer.zero_grad()\n",
    "        \n",
    "        imgs = imgs.to(device)\n",
    "        \n",
    "        t = torch.randint(low=0, high=T-1, size=(imgs.shape[0],), device=device, dtype=imgs.dtype)\n",
    "        noise = torch.randn_like(imgs, device=device)\n",
    "        long_t = t.long()\n",
    "        batch_size, channels, width, height = imgs.shape\n",
    "        noise_imgs = sqrt_bar_alpha_t_schedule[long_t].view((batch_size, 1, 1 ,1)) * imgs \\\n",
    "            + sqrt_minus_bar_alpha_t_schedule[long_t].view((batch_size, 1, 1, 1)) * noise\n",
    "        \n",
    "        pred_noise = model(noise_imgs, t.unsqueeze(1))\n",
    "\n",
    "        loss = criterion(pred_noise, noise)\n",
    "\n",
    "        loss.backward()\n",
    "        optimizer.step()\n",
    "        training_loss += loss.item() * imgs.shape[0]\n",
    "    model.eval()\n",
    "\n",
    "    for (imgs, labels) in test_dataloader:\n",
    "        imgs = imgs.to(device)\n",
    "        \n",
    "        t = torch.randint(low=0, high=T-1, size=(imgs.shape[0],), device=device, dtype=imgs.dtype)\n",
    "        noise = torch.randn_like(imgs, device=device)\n",
    "        long_t = t.long()\n",
    "        batch_size, channels, width, height = imgs.shape\n",
    "        noise_imgs = sqrt_bar_alpha_t_schedule[long_t].view((batch_size, 1, 1 ,1)) * imgs \\\n",
    "            + sqrt_minus_bar_alpha_t_schedule[long_t].view((batch_size, 1, 1, 1)) * noise\n",
    "        \n",
    "        pred_noise = model(noise_imgs, t.unsqueeze(1))\n",
    "\n",
    "        loss = criterion(pred_noise, noise)\n",
    "\n",
    "        val_loss += loss.item() * imgs.shape[0]\n",
    "    training_losses.append(training_loss / len(train_dataset))\n",
    "    val_losses.append(val_loss / len(test_dataset))\n",
    "    print(f\"Training loss for epoch {epoch}: {training_loss / len(train_dataset):.4f}\")\n",
    "    print(f\"Validation loss for epoch {epoch}: {val_loss / len(test_dataset):.4f}\")"
   ]
  },
  {
   "cell_type": "code",
   "execution_count": null,
   "metadata": {},
   "outputs": [
    {
     "data": {
      "text/plain": [
       "<matplotlib.image.AxesImage at 0x2b9bc2e50>"
      ]
     },
     "execution_count": 124,
     "metadata": {},
     "output_type": "execute_result"
    },
    {
     "data": {
      "image/png": "[encoded data removed]",
      "text/plain": [
       "<Figure size 640x480 with 1 Axes>"
      ]
     },
     "metadata": {},
     "output_type": "display_data"
    }
   ],
   "source": [
    "x_t = torch.rand_like(train_dataset[0][0], device=device).unsqueeze(0)\n",
    "for t in range(T-1, -1, -1):\n",
    "    z = torch.rand_like(x_t, device=device) if t > 0 else 0\n",
    "    t_tensor = torch.tensor([t], dtype=x_t.dtype, device=device).unsqueeze(0)\n",
    "    pred_noise = model(x_t, t_tensor)\n",
    "    x_t = 1 / alpha_t_schedule[t] * (x_t - pred_noise * (1 - alpha_t_schedule[t]) / sqrt_minus_bar_alpha_t_schedule[t]) + torch.sqrt(beta_schedule[t]) * z\n",
    "\n",
    "plt.imshow(transform_to_pil(x_t[0].detach().cpu()), cmap='gray')"
   ]
  },
  {
   "cell_type": "code",
   "execution_count": null,
   "metadata": {},
   "outputs": [
    {
     "name": "stdout",
     "output_type": "stream",
     "text": [
      "tensor(0., grad_fn=<MinBackward1>) tensor(1.8932, grad_fn=<MaxBackward1>)\n"
     ]
    },
    {
     "data": {
      "image/png": "[encoded data removed]",
      "text/plain": [
       "<PIL.Image.Image image mode=L size=28x28>"
      ]
     },
     "execution_count": 66,
     "metadata": {},
     "output_type": "execute_result"
    }
   ],
   "source": [
    "# x_t_1 = torch.rand_like(train_dataset[0][0], requires_grad=False).unsqueeze(0)\n",
    "# t_tensor = torch.tensor([500], dtype=x_t.dtype, device=device, requires_grad=False).unsqueeze(0)\n",
    "# pred_noise = model(x_t_1, t_tensor)\n",
    "# print(pred_noise.min(), pred_noise.max())\n",
    "# transform_to_pil(pred_noise[0])\n",
    "# x_t_1 = 1 / alpha_t_schedule[t] * (x_t - pred_noise * (1 - alpha_t_schedule[t]) / sqrt_minus_bar_alpha_t_schedule[t])"
   ]
  },
  {
   "cell_type": "code",
   "execution_count": null,
   "metadata": {},
   "outputs": [
    {
     "data": {
      "text/plain": [
       "<matplotlib.image.AxesImage at 0x2b83673a0>"
      ]
     },
     "execution_count": 70,
     "metadata": {},
     "output_type": "execute_result"
    },
    {
     "data": {
      "image/png": "[encoded data removed]",
      "text/plain": [
       "<Figure size 640x480 with 1 Axes>"
      ]
     },
     "metadata": {},
     "output_type": "display_data"
    }
   ],
   "source": [
    "plt.imshow(transform_to_pil(x_t[0]), cmap='gray')"
   ]
  },
  {
   "cell_type": "code",
   "execution_count": null,
   "metadata": {},
   "outputs": [
    {
     "data": {
      "text/plain": [
       "<matplotlib.image.AxesImage at 0x2a4deeeb0>"
      ]
     },
     "execution_count": 69,
     "metadata": {},
     "output_type": "execute_result"
    },
    {
     "data": {
      "image/png": "[encoded data removed]",
      "text/plain": [
       "<Figure size 600x300 with 2 Axes>"
      ]
     },
     "metadata": {},
     "output_type": "display_data"
    }
   ],
   "source": [
    "# img, index = next(iter(train_dataloader))\n",
    "# revert_image = transform_to_pil(img[0])\n",
    "# fig, axes = plt.subplots(1, 2, figsize=(6, 3))\n",
    "# # axes[0].imshow(img[0], cmap='gray')\n",
    "# axes[1].imshow(revert_image, cmap='gray')\n",
    "\n",
    "# img, index = dataset[20]\n",
    "# tensor = torchvision.transforms.ToTensor()(img)\n",
    "\n",
    "# fig, axes = plt.subplots(1, 5, figsize=(15, 3))\n",
    "# axes[0].imshow(img, cmap='gray')\n",
    "# index = 1\n",
    "# for t in [1, 4, 8, 40]:\n",
    "#     noise = torch.randn_like(tensor)\n",
    "#     new_image = sqrt_bar_alpha_t_schedule[t] * tensor + sqrt_minus_bar_alpha_t_schedule[t] * noise\n",
    "#     axes[index].imshow(torchvision.transforms.ToPILImage()(new_image), cmap='gray')\n",
    "#     index += 1"
   ]
  }
 ],
 "metadata": {
  "kernelspec": {
   "display_name": "pytorch_gpu_m1",
   "language": "python",
   "name": "python3"
  },
  "language_info": {
   "codemirror_mode": {
    "name": "ipython",
    "version": 3
   },
   "file_extension": ".py",
   "mimetype": "text/x-python",
   "name": "python",
   "nbconvert_exporter": "python",
   "pygments_lexer": "ipython3",
   "version": "3.9.13"
  }
 },
 "nbformat": 4,
 "nbformat_minor": 2
}
